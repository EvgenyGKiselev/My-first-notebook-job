{
  "metadata": {
    "language_info": {
      "codemirror_mode": {
        "name": "python",
        "version": 3
      },
      "file_extension": ".py",
      "mimetype": "text/x-python",
      "name": "python",
      "nbconvert_exporter": "python",
      "pygments_lexer": "ipython3",
      "version": "3.8"
    },
    "kernelspec": {
      "name": "python",
      "display_name": "Pyolite",
      "language": "python"
    }
  },
  "nbformat_minor": 4,
  "nbformat": 4,
  "cells": [
    {
      "cell_type": "markdown",
      "source": "# My Jupyter Notebook on IBM Watson Studio",
      "metadata": {}
    },
    {
      "cell_type": "markdown",
      "source": "**Kiselev Evgeny** \nI am a telecom manager",
      "metadata": {}
    },
    {
      "cell_type": "markdown",
      "source": "*I believe in Data Science that is why I am here*",
      "metadata": {}
    },
    {
      "cell_type": "markdown",
      "source": "### My code is about to do a simple math task ###",
      "metadata": {}
    },
    {
      "cell_type": "code",
      "source": "3+2-1",
      "metadata": {},
      "execution_count": null,
      "outputs": []
    },
    {
      "cell_type": "markdown",
      "source": "[GOOGLE](https://google.com)\n\n| Item name | Cost |\n| -------------| ------ |\n| Apple | 5 |\n| Potato | 3 |\n| Tomato |  2 |\n\n\n\n- Blue\n- Green\n- Yellow\n\n\n1. One\n2. Two\n3. Three\n",
      "metadata": {}
    },
    {
      "cell_type": "code",
      "source": "",
      "metadata": {},
      "execution_count": null,
      "outputs": []
    }
  ]
}